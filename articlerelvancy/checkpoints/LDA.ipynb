{
 "cells": [
  {
   "cell_type": "code",
   "execution_count": 1,
   "metadata": {},
   "outputs": [],
   "source": [
    "import gensim\n",
    "import gensim.corpora as corpora\n",
    "from gensim.models import CoherenceModel\n",
    "from nltk.corpus import stopwords\n",
    "from nltk.tokenize import word_tokenize\n",
    "from pprint import pprint"
   ]
  },
  {
   "cell_type": "code",
   "execution_count": 2,
   "metadata": {},
   "outputs": [
    {
     "name": "stdout",
     "output_type": "stream",
     "text": [
      "[(0,\n",
      "  '0.122*\"machine\" + 0.122*\"learning\" + 0.089*\"python\" + 0.075*\"software\" + '\n",
      "  '0.044*\"looking\" + 0.044*\"experience\" + 0.044*\"guide\" + 0.044*\"skilled\" + '\n",
      "  '0.044*\"detailed\" + 0.044*\"become\"'),\n",
      " (1,\n",
      "  '0.075*\"trends\" + 0.075*\"overview\" + 0.075*\"engineering\" + 0.075*\"latest\" + '\n",
      "  '0.073*\"software\" + 0.072*\"article\" + 0.072*\"programming\" + '\n",
      "  '0.072*\"applications\" + 0.048*\"python\" + 0.042*\"learning\"')]\n",
      "\n",
      "Coherence Score:  0.4699240140220493\n"
     ]
    }
   ],
   "source": [
    "\n",
    "# Sample documents\n",
    "documents = [\n",
    "    \"We are looking for a skilled software engineer with experience in Python and machine learning.\",\n",
    "    \"An article about Python programming and its applications in machine learning.\",\n",
    "    \"A detailed guide on how to become a machine learning specialist.\",\n",
    "    \"An overview of the latest trends in software engineering.\",\n",
    "    \"Machine learning and Python are popular among software engineers.\"\n",
    "]\n",
    "\n",
    "# Preprocess the documents\n",
    "stop_words = set(stopwords.words('english'))\n",
    "\n",
    "def preprocess(doc):\n",
    "    # Tokenize and remove stopwords\n",
    "    tokens = word_tokenize(doc.lower())\n",
    "    return [word for word in tokens if word.isalpha() and word not in stop_words]\n",
    "\n",
    "processed_docs = [preprocess(doc) for doc in documents]\n",
    "\n",
    "# Create a dictionary and corpus\n",
    "id2word = corpora.Dictionary(processed_docs)\n",
    "corpus = [id2word.doc2bow(doc) for doc in processed_docs]\n",
    "\n",
    "# Train the LDA model\n",
    "num_topics = 2  # Set the number of topics\n",
    "lda_model = gensim.models.LdaModel(corpus=corpus,\n",
    "                                   id2word=id2word,\n",
    "                                   num_topics=num_topics,\n",
    "                                   random_state=100,\n",
    "                                   update_every=1,\n",
    "                                   chunksize=10,\n",
    "                                   passes=10,\n",
    "                                   alpha='auto',\n",
    "                                   per_word_topics=True)\n",
    "\n",
    "# Print the topics\n",
    "pprint(lda_model.print_topics())\n",
    "\n",
    "# Compute coherence score\n",
    "coherence_model_lda = CoherenceModel(model=lda_model, texts=processed_docs, dictionary=id2word, coherence='c_v')\n",
    "coherence_lda = coherence_model_lda.get_coherence()\n",
    "print('\\nCoherence Score: ', coherence_lda)"
   ]
  },
  {
   "cell_type": "code",
   "execution_count": null,
   "metadata": {},
   "outputs": [],
   "source": []
  }
 ],
 "metadata": {
  "kernelspec": {
   "display_name": "learnai",
   "language": "python",
   "name": "python3"
  },
  "language_info": {
   "codemirror_mode": {
    "name": "ipython",
    "version": 3
   },
   "file_extension": ".py",
   "mimetype": "text/x-python",
   "name": "python",
   "nbconvert_exporter": "python",
   "pygments_lexer": "ipython3",
   "version": "3.11.5"
  }
 },
 "nbformat": 4,
 "nbformat_minor": 2
}
