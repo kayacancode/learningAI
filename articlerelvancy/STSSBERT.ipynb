{
 "cells": [
  {
   "cell_type": "code",
   "execution_count": 6,
   "metadata": {},
   "outputs": [],
   "source": [
    "from sentence_transformers import SentenceTransformer, InputExample, losses, util\n",
    "from torch.utils.data import DataLoader\n",
    "from sentence_transformers.evaluation import EmbeddingSimilarityEvaluator\n",
    "from datasets import load_dataset\n",
    "\n"
   ]
  },
  {
   "cell_type": "code",
   "execution_count": 8,
   "metadata": {},
   "outputs": [
    {
     "name": "stderr",
     "output_type": "stream",
     "text": [
      "/Users/kayajones/anaconda3/envs/learnai/lib/python3.11/site-packages/huggingface_hub/file_download.py:1132: FutureWarning: `resume_download` is deprecated and will be removed in version 1.0.0. Downloads always resume when possible. If you want to force a new download, use `force_download=True`.\n",
      "  warnings.warn(\n",
      "100%|██████████| 360/360 [00:54<00:00,  6.62it/s]"
     ]
    },
    {
     "name": "stdout",
     "output_type": "stream",
     "text": [
      "{'train_runtime': 54.4086, 'train_samples_per_second': 105.663, 'train_steps_per_second': 6.617, 'train_loss': 0.027549976772732205, 'epoch': 1.0}\n"
     ]
    },
    {
     "name": "stderr",
     "output_type": "stream",
     "text": [
      "\n"
     ]
    }
   ],
   "source": [
    "# Load pre-trained Sentence-BERT model\n",
    "model = SentenceTransformer('paraphrase-MiniLM-L6-v2')\n",
    "\n",
    "# Load STS Benchmark dataset\n",
    "dataset = load_dataset(\"PhilipMay/stsb_multi_mt\", \"en\")\n",
    "\n",
    "# Extract relevant data from the dataset\n",
    "sts_examples = []\n",
    "for data in dataset['train']:\n",
    "    text_a = data['sentence1']\n",
    "    text_b = data['sentence2']\n",
    "    similarity_score = float(data['similarity_score']) / 5.0  # Normalize similarity score to range [0, 1]\n",
    "    sts_examples.append(InputExample(texts=[text_a, text_b], label=similarity_score))\n",
    "\n",
    "# Define train dataloader\n",
    "train_dataloader = DataLoader(sts_examples, shuffle=True, batch_size=16)\n",
    "\n",
    "# Define loss function\n",
    "train_loss = losses.CosineSimilarityLoss(model)\n",
    "\n",
    "# Fine-tune the model\n",
    "model.fit(train_objectives=[(train_dataloader, train_loss)], epochs=1)"
   ]
  },
  {
   "cell_type": "code",
   "execution_count": 11,
   "metadata": {},
   "outputs": [
    {
     "name": "stdout",
     "output_type": "stream",
     "text": [
      "Similarity between the job description and 'An article about Python programming and its applications in machine learning.': 0.6093\n",
      "Similarity between the job description and 'A detailed guide on how to become a machine learning specialist.': 0.5278\n",
      "Similarity between the job description and 'An overview of the latest trends in software engineering.': 0.4220\n"
     ]
    }
   ],
   "source": [
    "job_description = \"We are looking for a skilled software engineer with experience in Python and machine learning.\"\n",
    "articles = [\n",
    "    \"An article about Python programming and its applications in machine learning.\",\n",
    "    \"A detailed guide on how to become a machine learning specialist.\",\n",
    "    \"An overview of the latest trends in software engineering.\"\n",
    "]\n",
    "# Compute the similarity score between the sentences\n",
    "\n",
    "# Print the similarity score\n",
    "for article in articles:\n",
    "    similarity_score = util.cos_sim(model.encode(job_description), model.encode(article))\n",
    "    print(f\"Similarity between the job description and '{article}': {similarity_score.item():.4f}\")"
   ]
  },
  {
   "cell_type": "code",
   "execution_count": null,
   "metadata": {},
   "outputs": [],
   "source": []
  }
 ],
 "metadata": {
  "kernelspec": {
   "display_name": "learnai",
   "language": "python",
   "name": "python3"
  },
  "language_info": {
   "codemirror_mode": {
    "name": "ipython",
    "version": 3
   },
   "file_extension": ".py",
   "mimetype": "text/x-python",
   "name": "python",
   "nbconvert_exporter": "python",
   "pygments_lexer": "ipython3",
   "version": "3.11.5"
  }
 },
 "nbformat": 4,
 "nbformat_minor": 2
}
