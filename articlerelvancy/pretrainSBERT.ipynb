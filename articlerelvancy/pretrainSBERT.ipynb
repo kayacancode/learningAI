{
 "cells": [
  {
   "cell_type": "code",
   "execution_count": 7,
   "metadata": {},
   "outputs": [],
   "source": [
    "from sentence_transformers import SentenceTransformer, util\n"
   ]
  },
  {
   "cell_type": "code",
   "execution_count": 11,
   "metadata": {},
   "outputs": [],
   "source": [
    "model = SentenceTransformer('paraphrase-MiniLM-L6-v2')\n",
    "\n",
    "# define job description and related articles \n",
    "job_description = \"We are looking for a skilled software engineer with experience in Python and machine learning.\"\n",
    "articles = [\"An article about Python programming and its applications in machine learning.\",\n",
    "            \"A detailed guide on how to become a machine learning specialist.\",\n",
    "            \"An overview of the latest trends in software engineering.\"]\n",
    "\n"
   ]
  },
  {
   "cell_type": "code",
   "execution_count": 16,
   "metadata": {},
   "outputs": [
    {
     "name": "stdout",
     "output_type": "stream",
     "text": [
      "Similarity with article 'An article about Python programming and its applications in machine learning.': 0.6086\n",
      "Similarity with article 'A detailed guide on how to become a machine learning specialist.': 0.5360\n",
      "Similarity with article 'An overview of the latest trends in software engineering.': 0.4382\n"
     ]
    }
   ],
   "source": [
    "# Compute similarities between job description and each article\n",
    "for article in articles:\n",
    "    job_emb = model.encode([job_description])[0]\n",
    "    article_emb = model.encode([article])[0]\n",
    "    similarity = util.cos_sim(job_emb, article_emb)\n",
    "    print(f\"Similarity with article '{article}': {similarity.item():.4f}\")\n"
   ]
  },
  {
   "cell_type": "code",
   "execution_count": null,
   "metadata": {},
   "outputs": [],
   "source": []
  }
 ],
 "metadata": {
  "kernelspec": {
   "display_name": "learnai",
   "language": "python",
   "name": "python3"
  },
  "language_info": {
   "codemirror_mode": {
    "name": "ipython",
    "version": 3
   },
   "file_extension": ".py",
   "mimetype": "text/x-python",
   "name": "python",
   "nbconvert_exporter": "python",
   "pygments_lexer": "ipython3",
   "version": "3.11.5"
  }
 },
 "nbformat": 4,
 "nbformat_minor": 2
}
